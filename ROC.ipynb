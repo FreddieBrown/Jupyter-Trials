{
 "cells": [
  {
   "cell_type": "code",
   "execution_count": 1,
   "metadata": {},
   "outputs": [],
   "source": [
    "import matplotlib.pyplot as plt\n",
    "import pandas as pd"
   ]
  },
  {
   "cell_type": "code",
   "execution_count": 2,
   "metadata": {},
   "outputs": [],
   "source": [
    "d = pd.DataFrame({\"p\":[0.9, 0.7, 0.6, 0.4, 0.1, 0.6, 0.4, 0.3, 0.3, 0.2], \"tc\":[1,1,1,1,1,-1,-1,-1,-1,-1]})"
   ]
  },
  {
   "cell_type": "code",
   "execution_count": 12,
   "metadata": {},
   "outputs": [],
   "source": [
    "thresholds = [0.1, 0.4,0.7, 1.0]"
   ]
  },
  {
   "cell_type": "code",
   "execution_count": 13,
   "metadata": {},
   "outputs": [],
   "source": [
    "def tpr_fpr(threshold):\n",
    "    tps = 0\n",
    "    fps = 0\n",
    "    tns = 0\n",
    "    fns = 0\n",
    "    for i, r in d.iterrows():\n",
    "        if r[\"p\"] >= threshold:\n",
    "            if r[\"tc\"] == 1:\n",
    "                tps+=1\n",
    "            else:\n",
    "                fps+=1\n",
    "        else:\n",
    "            if r[\"tc\"] == 1:\n",
    "                fns+=1\n",
    "            else:\n",
    "                tns+=1\n",
    "    try:\n",
    "        return tps/(tps+fns), fps/(fps+tns)\n",
    "    except:\n",
    "        return 0,0"
   ]
  },
  {
   "cell_type": "code",
   "execution_count": 14,
   "metadata": {},
   "outputs": [
    {
     "name": "stdout",
     "output_type": "stream",
     "text": [
      "Threshold 0.1:\n",
      "\t TPR = 1.0 \n",
      "\t FPR = 1.0\n",
      "Threshold 0.4:\n",
      "\t TPR = 0.8 \n",
      "\t FPR = 0.4\n",
      "Threshold 0.7:\n",
      "\t TPR = 0.4 \n",
      "\t FPR = 0.0\n",
      "Threshold 1.0:\n",
      "\t TPR = 0.0 \n",
      "\t FPR = 0.0\n"
     ]
    }
   ],
   "source": [
    "x = []\n",
    "y = []\n",
    "for t in thresholds:\n",
    "    tpr, fpr = tpr_fpr(t)\n",
    "    x.append(fpr)\n",
    "    y.append(tpr)\n",
    "    print(\"Threshold {}:\\n\\t TPR = {} \\n\\t FPR = {}\".format(t, tpr, fpr))"
   ]
  },
  {
   "cell_type": "code",
   "execution_count": 265,
   "metadata": {},
   "outputs": [
    {
     "data": {
      "image/png": "[encoded data removed]",
      "text/plain": [
       "<Figure size 432x288 with 1 Axes>"
      ]
     },
     "metadata": {
      "needs_background": "light"
     },
     "output_type": "display_data"
    }
   ],
   "source": [
    "plt.clf()\n",
    "plt.plot(x,y)\n",
    "plt.ylabel(\"True Positive Rate\")\n",
    "plt.xlabel(\"False Positive Rate\")\n",
    "plt.show()"
   ]
  },
  {
   "cell_type": "code",
   "execution_count": null,
   "metadata": {},
   "outputs": [],
   "source": []
  }
 ],
 "metadata": {
  "kernelspec": {
   "display_name": "Python 3",
   "language": "python",
   "name": "python3"
  },
  "language_info": {
   "codemirror_mode": {
    "name": "ipython",
    "version": 3
   },
   "file_extension": ".py",
   "mimetype": "text/x-python",
   "name": "python",
   "nbconvert_exporter": "python",
   "pygments_lexer": "ipython3",
   "version": "3.8.2"
  }
 },
 "nbformat": 4,
 "nbformat_minor": 2
}
