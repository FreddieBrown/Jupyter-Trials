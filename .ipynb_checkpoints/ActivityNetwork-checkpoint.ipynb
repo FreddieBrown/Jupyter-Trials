{
 "cells": [
  {
   "cell_type": "code",
   "execution_count": 1,
   "metadata": {},
   "outputs": [],
   "source": [
    "import math"
   ]
  },
  {
   "cell_type": "code",
   "execution_count": 2,
   "metadata": {},
   "outputs": [],
   "source": [
    "class Node:\n",
    "    def __init__(self, name, duration):\n",
    "        self.name = name\n",
    "        self.duration = duration\n",
    "        \n",
    "        self.es = 0\n",
    "        self.ef = 0\n",
    "        self.ls = 0\n",
    "        self.lf = 0\n",
    "        \n",
    "        self.ff = 0\n",
    "        self.tf = 0\n",
    "        \n",
    "    def add_es(self, es):\n",
    "        self.es = es\n",
    "    \n",
    "    def add_ef(self, ef):\n",
    "        self.ef = ef\n",
    "        \n",
    "    def add_ls(self, ls):\n",
    "        self.ls = ls\n",
    "        \n",
    "    def add_lf(self, lf):\n",
    "        self.lf = lf\n",
    "    \n",
    "    def free_float(self):\n",
    "        print(\"Free\")\n",
    "    \n",
    "    def total_float(self):\n",
    "        print(\"Total\")\n",
    "        "
   ]
  },
  {
   "cell_type": "code",
   "execution_count": null,
   "metadata": {},
   "outputs": [],
   "source": [
    "def run_algo(nodes, edges):\n",
    "    print(\"Running\")\n",
    "    "
   ]
  },
  {
   "cell_type": "code",
   "execution_count": null,
   "metadata": {},
   "outputs": [],
   "source": [
    "nodes = [(\"A\", 6), (\"B\",3), (\"C\",4), (\"D\",5), (\"E\",4), (\"F\",5)]\n",
    "edges = [(\"A\",\"E\"), (\"B\",\"C\"), (\"B\", \"D\"), (\"C\", \"E\"), (\"C\", \"F\"), (\"D\", \"F\")]"
   ]
  }
 ],
 "metadata": {
  "kernelspec": {
   "display_name": "Python 3",
   "language": "python",
   "name": "python3"
  },
  "language_info": {
   "codemirror_mode": {
    "name": "ipython",
    "version": 3
   },
   "file_extension": ".py",
   "mimetype": "text/x-python",
   "name": "python",
   "nbconvert_exporter": "python",
   "pygments_lexer": "ipython3",
   "version": "3.7.6"
  }
 },
 "nbformat": 4,
 "nbformat_minor": 4
}
