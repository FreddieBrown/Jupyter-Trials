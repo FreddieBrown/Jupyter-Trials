{
 "cells": [
  {
   "cell_type": "code",
   "execution_count": 40,
   "metadata": {},
   "outputs": [],
   "source": [
    "import math\n",
    "\n",
    "\"\"\"\n",
    "Perform EVA analysis on data\n",
    "\"\"\"\n",
    "\n",
    "def eva(bac, per_scheduled, per_done, ac, eac_type):\n",
    "    print(\"EVA\")\n",
    "    pv = bac * per_scheduled\n",
    "    print(\"Planned Value (PV) = BAC * % Scheduled = {}\".format(pv))\n",
    "    ev = bac * per_done\n",
    "    print(\"Earned Value (EV) = BAC * % Done = {}\".format(ev))\n",
    "    sv = ev - pv\n",
    "    print(\"Schedule Variance (SV) = EV - PV = {}\".format(sv))\n",
    "    cv = ev-ac\n",
    "    print(\"Cost Variance (CV) = EV - AC = {}\".format(cv))\n",
    "    spi = ev / pv\n",
    "    print(\"Schedule Performance Index (SPI) = EV / PV= {}\".format(spi))\n",
    "    cpi = ev / ac\n",
    "    print(\"Cost Performance Index (CPI) = EV / AC = {}\".format(cpi))\n",
    "    csi = spi*cpi\n",
    "    print(\"Cost Schedule Index (CSI) = SPI * CPI = {}\".format(csi))\n",
    "    print(\"\\nForecasting\")\n",
    "    if eac_type == 1:\n",
    "        eac = bac/cpi\n",
    "        print(\"Estimated At Completion (EAC) = BAC / CPI = {}\".format(eac))\n",
    "    elif eac_type == 2:\n",
    "        eac = ac+(bac-ev)\n",
    "        print(\"Estimated At Completion (EAC) = AC + (BAC - EV) = {}\".format(eac))\n",
    "    else:\n",
    "        eac = ac+(bac-ev)/csi\n",
    "        print(\"Estimated At Completion (EAC) = AC + (BAC - EV) / CSI = {}\".format(eac))\n",
    "    \n",
    "    etc = eac-ac\n",
    "    print(\"Estimated To Complete (ETC) = EAC - AC = {}\".format(etc))\n",
    "    vac = bac-eac\n",
    "    print(\"Variance At Complete (VAC) = BAC - EAC = {}\".format(vac))\n",
    "    if etc == 0:\n",
    "        tcpieac = 0\n",
    "    else:\n",
    "        tcpieac = (bac-ev)/(eac-ac)\n",
    "    print(\"To-Complete Performance Index (TCPI-EAC) = (BAC-EV)/(EAC-AC) = {}\".format(tcpieac))\n",
    "    tcpibac = (bac-ev)/(bac-ac)\n",
    "    print(\"To-Complete Performance Index (TCPI-BAC) = (BAC-EV)/(BAC-AC) = {}\".format(tcpibac))\n",
    "    "
   ]
  },
  {
   "cell_type": "code",
   "execution_count": 43,
   "metadata": {},
   "outputs": [
    {
     "name": "stdout",
     "output_type": "stream",
     "text": [
      "EVA\n",
      "Planned Value (PV) = BAC * % Scheduled = 20000.0\n",
      "Earned Value (EV) = BAC * % Done = 24000.0\n",
      "Schedule Variance (SV) = EV - PV = 4000.0\n",
      "Cost Variance (CV) = EV - AC = -16000.0\n",
      "Schedule Performance Index (SPI) = EV / PV= 1.2\n",
      "Cost Performance Index (CPI) = EV / AC = 0.6\n",
      "Cost Schedule Index (CSI) = SPI * CPI = 0.72\n",
      "\n",
      "Forecasting\n",
      "Estimated At Completion (EAC) = AC + (BAC - EV) / CSI = 117777.77777777778\n",
      "Estimated To Complete (ETC) = EAC - AC = 77777.77777777778\n",
      "Variance At Complete (VAC) = BAC - EAC = -37777.77777777778\n",
      "To-Complete Performance Index (TCPI-EAC) = (BAC-EV)/(EAC-AC) = 0.72\n",
      "To-Complete Performance Index (TCPI-BAC) = (BAC-EV)/(BAC-AC) = 1.4\n"
     ]
    }
   ],
   "source": [
    "eva(80000, 0.25, 0.3, 40000, 3)"
   ]
  },
  {
   "cell_type": "code",
   "execution_count": null,
   "metadata": {},
   "outputs": [],
   "source": []
  }
 ],
 "metadata": {
  "kernelspec": {
   "display_name": "Python 3",
   "language": "python",
   "name": "python3"
  },
  "language_info": {
   "codemirror_mode": {
    "name": "ipython",
    "version": 3
   },
   "file_extension": ".py",
   "mimetype": "text/x-python",
   "name": "python",
   "nbconvert_exporter": "python",
   "pygments_lexer": "ipython3",
   "version": "3.8.2"
  }
 },
 "nbformat": 4,
 "nbformat_minor": 4
}
