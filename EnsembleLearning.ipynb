{
 "cells": [
  {
   "cell_type": "code",
   "execution_count": 61,
   "metadata": {},
   "outputs": [],
   "source": [
    "import numpy as np\n",
    "import matplotlib.pyplot as plt\n",
    "from matplotlib.colors import ListedColormap\n",
    "from sklearn.neighbors import KNeighborsClassifier\n",
    "from sklearn.linear_model import LogisticRegression\n",
    "from sklearn.model_selection import LeaveOneOut\n",
    "from sklearn.cluster import KMeans\n",
    "from sklearn.model_selection import train_test_split\n",
    "from sklearn.metrics import accuracy_score\n",
    "import pandas as pd\n",
    "import math\n",
    "\n",
    "import keras\n",
    "from keras.models import Sequential\n",
    "from keras.layers.core import Activation, Dropout, Dense\n",
    "from keras.layers import Flatten, Conv1D, LSTM, SimpleRNN\n",
    "from keras.layers import GlobalMaxPooling1D"
   ]
  },
  {
   "cell_type": "code",
   "execution_count": 62,
   "metadata": {},
   "outputs": [],
   "source": [
    "def NN(X_train, y_train, validation, test):\n",
    "    print(\"NN\")\n",
    "    model = Sequential()\n",
    "    model.add(Dense(256, activation=\"relu\", input_dim=8))\n",
    "    model.add(Dense(64, activation=\"relu\"))\n",
    "    model.add(Dense(256, activation=\"relu\"))\n",
    "    model.add(Dense(1, activation=\"sigmoid\"))\n",
    "    model.compile(optimizer='adam', loss='binary_crossentropy', metrics=['acc'])\n",
    "    fit_model = model.fit(X_train, y_train, epochs=1000, batch_size=128, verbose=0)\n",
    "    valid_res = np.argmax(model.predict(validation), axis=-1)\n",
    "    test_res = np.argmax(model.predict(test), axis=-1)\n",
    "    return (valid_res, test_res)"
   ]
  },
  {
   "cell_type": "code",
   "execution_count": 63,
   "metadata": {},
   "outputs": [],
   "source": [
    "def KNN(X_train, y_train, validation, test):\n",
    "    print(\"KNN\")\n",
    "    neigh = KNeighborsClassifier(n_neighbors=3)\n",
    "    neigh.fit(X_train, y_train)\n",
    "    valid_res = neigh.predict(validation)\n",
    "    test_res = neigh.predict(test)\n",
    "    return (valid_res, test_res)"
   ]
  },
  {
   "cell_type": "code",
   "execution_count": 64,
   "metadata": {},
   "outputs": [],
   "source": [
    "def LogisticR(X_train, y_train, validation, test):\n",
    "    print(\"LogisticR\")\n",
    "    logreg = LogisticRegression()\n",
    "    logreg.fit(X_train, y_train)\n",
    "    valid_res = logreg.predict(validation)\n",
    "    test_res = logreg.predict(test)\n",
    "    return (valid_res, test_res)\n",
    "    "
   ]
  },
  {
   "cell_type": "code",
   "execution_count": 65,
   "metadata": {},
   "outputs": [
    {
     "name": "stdout",
     "output_type": "stream",
     "text": [
      "(768, 8)\n"
     ]
    }
   ],
   "source": [
    "# Import dataset\n",
    "data = pd.read_csv(\"data/diabetes.csv\")\n",
    "y = data[\"Outcome\"].to_numpy()\n",
    "X = data.drop([\"Outcome\"], axis=1).to_numpy()\n",
    "print(X.shape)"
   ]
  },
  {
   "cell_type": "code",
   "execution_count": 66,
   "metadata": {},
   "outputs": [],
   "source": [
    "# Split dataset into training (0.6) and test (0.4)\n",
    "X_train, X_test, y_train, y_test = train_test_split(X, y, test_size=0.4, random_state=42)"
   ]
  },
  {
   "cell_type": "code",
   "execution_count": 67,
   "metadata": {},
   "outputs": [],
   "source": [
    "# Split test into validation (0.5) and Prediction (0.5)\n",
    "X_valid, X_test, y_valid, y_test = train_test_split(X_test, y_test, test_size=0.5, random_state=42)"
   ]
  },
  {
   "cell_type": "code",
   "execution_count": 68,
   "metadata": {},
   "outputs": [
    {
     "name": "stdout",
     "output_type": "stream",
     "text": [
      "KNN\n",
      "LogisticR\n",
      "NN\n"
     ]
    },
    {
     "name": "stderr",
     "output_type": "stream",
     "text": [
      "/usr/local/lib/python3.8/site-packages/sklearn/linear_model/_logistic.py:762: ConvergenceWarning: lbfgs failed to converge (status=1):\n",
      "STOP: TOTAL NO. of ITERATIONS REACHED LIMIT.\n",
      "\n",
      "Increase the number of iterations (max_iter) or scale the data as shown in:\n",
      "    https://scikit-learn.org/stable/modules/preprocessing.html\n",
      "Please also refer to the documentation for alternative solver options:\n",
      "    https://scikit-learn.org/stable/modules/linear_model.html#logistic-regression\n",
      "  n_iter_i = _check_optimize_result(\n"
     ]
    },
    {
     "name": "stdout",
     "output_type": "stream",
     "text": [
      "KNN: 77.92207792207793%\n",
      "LR: 76.62337662337663%\n",
      "NN: 67.53246753246754%\n"
     ]
    }
   ],
   "source": [
    "# Try each model using training, validation and prediction. These will return the validation and prediction sets\n",
    "valid_knn, test_knn = KNN(X_train, y_train, X_valid, X_test)\n",
    "valid_lr, test_lr = LogisticR(X_train, y_train, X_valid, X_test)\n",
    "valid_nn, test_nn = NN(X_train, y_train, X_valid, X_test)\n",
    "knn_acc = accuracy_score(y_valid, valid_knn)\n",
    "lr_acc = accuracy_score(y_valid, valid_lr)\n",
    "nn_acc = accuracy_score(y_valid, valid_nn)\n",
    "print(\"KNN: {}%\\nLR: {}%\\nNN: {}%\".format(knn_acc*100, lr_acc*100, nn_acc*100))"
   ]
  },
  {
   "cell_type": "code",
   "execution_count": 87,
   "metadata": {},
   "outputs": [],
   "source": [
    "def calc_error(baseline, validation):\n",
    "    error = 0\n",
    "    for (b, p) in zip(baseline, validation):\n",
    "        if b != p:\n",
    "            error += 1\n",
    "    return 1/error\n",
    "        "
   ]
  },
  {
   "cell_type": "code",
   "execution_count": 89,
   "metadata": {},
   "outputs": [
    {
     "name": "stdout",
     "output_type": "stream",
     "text": [
      "Weights: 38, 35, 25\n"
     ]
    }
   ],
   "source": [
    "knn_error = calc_error(y_valid, valid_knn)\n",
    "lr_error = calc_error(y_valid, valid_lr)\n",
    "nn_error = calc_error(y_valid, valid_nn)\n",
    "total = knn_error + lr_error + nn_error\n",
    "knn_weight = math.floor((knn_error/total)*100)\n",
    "lr_weight = math.floor((lr_error/total)*100)\n",
    "nn_weight = math.floor((nn_error/total)*100)\n",
    "print(\"Weights: {}, {}, {}\".format(knn_weight, lr_weight, nn_weight))"
   ]
  },
  {
   "cell_type": "code",
   "execution_count": 90,
   "metadata": {},
   "outputs": [],
   "source": [
    "def ensemble(pred1, w1, pred2, w2, pred3, w3):\n",
    "    predict = []\n",
    "    for (p1, p2, p3) in zip(pred1, pred2, pred3):\n",
    "        tally = [0, 0]\n",
    "        tally[p1] += w1\n",
    "        tally[p2] += w2\n",
    "        tally[p3] += w3\n",
    "        if tally[0] > tally[1]:\n",
    "            predict.append(0)\n",
    "        else:\n",
    "            predict.append(1)\n",
    "    return predict"
   ]
  },
  {
   "cell_type": "code",
   "execution_count": 91,
   "metadata": {},
   "outputs": [],
   "source": [
    "predictions = ensemble(test_knn, knn_weight, test_nn, nn_weight, test_lr, lr_weight)"
   ]
  },
  {
   "cell_type": "code",
   "execution_count": 92,
   "metadata": {},
   "outputs": [
    {
     "name": "stdout",
     "output_type": "stream",
     "text": [
      "KNN: 61.688%\n",
      "LR: 76.623%\n",
      "NN: 66.234%\n",
      "Average of models: 68.182%\n",
      "Ensemble: 71.429%\n"
     ]
    }
   ],
   "source": [
    "print(\"KNN: {0:.3f}%\\nLR: {1:.3f}%\\nNN: {2:.3f}%\".format(float(accuracy_score(y_test, test_knn)*100), float(accuracy_score(y_test, test_lr)*100), float(accuracy_score(y_test, test_nn)*100)))\n",
    "\n",
    "average = (accuracy_score(y_test, test_knn)*100 + accuracy_score(y_test, test_lr)*100 + accuracy_score(y_test, test_nn)*100)/3\n",
    "print(\"Average of models: {0:.3f}%\".format(float(average)))\n",
    "print(\"Ensemble: {0:.3f}%\".format(float(accuracy_score(y_test, predictions)*100)))\n",
    "\n"
   ]
  },
  {
   "cell_type": "code",
   "execution_count": null,
   "metadata": {},
   "outputs": [],
   "source": []
  }
 ],
 "metadata": {
  "kernelspec": {
   "display_name": "Python 3",
   "language": "python",
   "name": "python3"
  },
  "language_info": {
   "codemirror_mode": {
    "name": "ipython",
    "version": 3
   },
   "file_extension": ".py",
   "mimetype": "text/x-python",
   "name": "python",
   "nbconvert_exporter": "python",
   "pygments_lexer": "ipython3",
   "version": "3.8.6"
  }
 },
 "nbformat": 4,
 "nbformat_minor": 4
}
