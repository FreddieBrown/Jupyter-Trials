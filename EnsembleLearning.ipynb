{
 "cells": [
  {
   "cell_type": "code",
   "execution_count": 104,
   "metadata": {},
   "outputs": [],
   "source": [
    "import numpy as np\n",
    "import matplotlib.pyplot as plt\n",
    "from matplotlib.colors import ListedColormap\n",
    "from sklearn.neighbors import KNeighborsClassifier\n",
    "from sklearn.linear_model import LogisticRegression\n",
    "from sklearn.model_selection import LeaveOneOut\n",
    "from sklearn.cluster import KMeans\n",
    "from sklearn.model_selection import train_test_split\n",
    "from sklearn.metrics import accuracy_score\n",
    "import pandas as pd\n",
    "\n",
    "import keras\n",
    "from keras.models import Sequential\n",
    "from keras.layers.core import Activation, Dropout, Dense\n",
    "from keras.layers import Flatten, Conv1D, LSTM, SimpleRNN\n",
    "from keras.layers import GlobalMaxPooling1D"
   ]
  },
  {
   "cell_type": "code",
   "execution_count": 105,
   "metadata": {},
   "outputs": [],
   "source": [
    "def NN(X_train, y_train, validation, test):\n",
    "    print(\"NN\")\n",
    "    model = Sequential()\n",
    "    model.add(Dense(256, activation=\"relu\", input_dim=8))\n",
    "    model.add(Dense(64, activation=\"relu\"))\n",
    "    model.add(Dense(256, activation=\"relu\"))\n",
    "    model.add(Dense(1, activation=\"sigmoid\"))\n",
    "    model.compile(optimizer='adam', loss='binary_crossentropy', metrics=['acc'])\n",
    "    print(model.summary())\n",
    "    fit_model = model.fit(X_train, y_train, epochs=1000, batch_size=64, verbose=0)\n",
    "    valid_res = np.argmax(model.predict(validation), axis=-1)\n",
    "    test_res = np.argmax(model.predict(test), axis=-1)\n",
    "    return (valid_res, test_res)"
   ]
  },
  {
   "cell_type": "code",
   "execution_count": 106,
   "metadata": {},
   "outputs": [],
   "source": [
    "def KNN(X_train, y_train, validation, test):\n",
    "    print(\"KNN\")\n",
    "    neigh = KNeighborsClassifier(n_neighbors=3)\n",
    "    neigh.fit(X_train, y_train)\n",
    "    valid_res = neigh.predict(validation)\n",
    "    test_res = neigh.predict(test)\n",
    "    return (valid_res, test_res)"
   ]
  },
  {
   "cell_type": "code",
   "execution_count": 107,
   "metadata": {},
   "outputs": [],
   "source": [
    "def LogisticR(X_train, y_train, validation, test):\n",
    "    print(\"LogisticR\")\n",
    "    logreg = LogisticRegression()\n",
    "    logreg.fit(X_train, y_train)\n",
    "    valid_res = logreg.predict(validation)\n",
    "    test_res = logreg.predict(test)\n",
    "    return (valid_res, test_res)\n",
    "    "
   ]
  },
  {
   "cell_type": "code",
   "execution_count": 108,
   "metadata": {},
   "outputs": [
    {
     "name": "stdout",
     "output_type": "stream",
     "text": [
      "(768, 8)\n"
     ]
    }
   ],
   "source": [
    "# Import dataset\n",
    "data = pd.read_csv(\"data/diabetes.csv\")\n",
    "y = data[\"Outcome\"].to_numpy()\n",
    "X = data.drop([\"Outcome\"], axis=1).to_numpy()\n",
    "print(X.shape)"
   ]
  },
  {
   "cell_type": "code",
   "execution_count": 109,
   "metadata": {},
   "outputs": [],
   "source": [
    "# Split dataset into training (0.6) and test (0.4)\n",
    "X_train, X_test, y_train, y_test = train_test_split(X, y, test_size=0.4, random_state=42)"
   ]
  },
  {
   "cell_type": "code",
   "execution_count": 110,
   "metadata": {},
   "outputs": [],
   "source": [
    "# Split test into validation (0.5) and Prediction (0.5)\n",
    "X_valid, X_test, y_valid, y_test = train_test_split(X_test, y_test, test_size=0.5, random_state=42)"
   ]
  },
  {
   "cell_type": "code",
   "execution_count": 111,
   "metadata": {},
   "outputs": [
    {
     "name": "stdout",
     "output_type": "stream",
     "text": [
      "KNN\n",
      "[0 0 0 0 1 0 1 1 1 0 0 0 1 1 0 0 1 0 1 0 0 0 0 1 0 1 1 0 1 0 0 0 0 0 0 0 0\n",
      " 0 0 0 1 0 0 0 1 1 1 0 0 0 0 1 0 0 0 0 0 1 1 1 1 0 0 0 1 0 0 1 1 0 1 1 1 0\n",
      " 0 0 0 0 0 1 1 0 0 0 0 0 0 0 0 1 0 0 0 1 0 0 1 0 0 1 0 1 1 1 0 0 0 1 1 1 0\n",
      " 0 0 0 1 1 0 0 0 0 1 1 0 0 0 0 1 0 1 0 0 0 0 0 0 0 1 0 0 1 1 1 0 0 0 1 0 0\n",
      " 1 1 0 0 0 0]\n",
      "LogisticR\n",
      "[0 0 0 0 1 0 1 0 1 0 1 1 1 1 0 0 1 0 1 0 0 1 1 1 1 1 0 0 1 0 0 0 0 1 0 0 0\n",
      " 0 0 1 1 0 1 0 1 1 0 0 0 0 1 1 0 0 0 0 0 1 0 1 1 0 0 0 1 0 0 0 1 0 1 1 1 0\n",
      " 0 0 0 0 0 1 1 0 0 0 0 0 0 0 0 1 0 0 0 1 0 0 1 0 0 1 0 1 0 0 0 0 0 0 1 1 0\n",
      " 1 0 0 1 0 0 0 0 0 1 1 0 0 0 0 1 0 0 0 1 0 0 0 1 0 1 0 0 0 1 1 1 0 0 1 0 0\n",
      " 0 1 0 0 0 1]\n",
      "NN\n",
      "Model: \"sequential_17\"\n",
      "_________________________________________________________________\n",
      "Layer (type)                 Output Shape              Param #   \n",
      "=================================================================\n",
      "dense_68 (Dense)             (None, 256)               2304      \n",
      "_________________________________________________________________\n",
      "dense_69 (Dense)             (None, 64)                16448     \n",
      "_________________________________________________________________\n",
      "dense_70 (Dense)             (None, 256)               16640     \n",
      "_________________________________________________________________\n",
      "dense_71 (Dense)             (None, 1)                 257       \n",
      "=================================================================\n",
      "Total params: 35,649\n",
      "Trainable params: 35,649\n",
      "Non-trainable params: 0\n",
      "_________________________________________________________________\n",
      "None\n"
     ]
    },
    {
     "name": "stderr",
     "output_type": "stream",
     "text": [
      "/Users/freddiebrown/Library/Python/3.7/lib/python/site-packages/sklearn/linear_model/_logistic.py:764: ConvergenceWarning: lbfgs failed to converge (status=1):\n",
      "STOP: TOTAL NO. of ITERATIONS REACHED LIMIT.\n",
      "\n",
      "Increase the number of iterations (max_iter) or scale the data as shown in:\n",
      "    https://scikit-learn.org/stable/modules/preprocessing.html\n",
      "Please also refer to the documentation for alternative solver options:\n",
      "    https://scikit-learn.org/stable/modules/linear_model.html#logistic-regression\n",
      "  extra_warning_msg=_LOGISTIC_SOLVER_CONVERGENCE_MSG)\n"
     ]
    },
    {
     "name": "stdout",
     "output_type": "stream",
     "text": [
      "[0 0 0 0 0 0 0 0 0 0 0 0 0 0 0 0 0 0 0 0 0 0 0 0 0 0 0 0 0 0 0 0 0 0 0 0 0\n",
      " 0 0 0 0 0 0 0 0 0 0 0 0 0 0 0 0 0 0 0 0 0 0 0 0 0 0 0 0 0 0 0 0 0 0 0 0 0\n",
      " 0 0 0 0 0 0 0 0 0 0 0 0 0 0 0 0 0 0 0 0 0 0 0 0 0 0 0 0 0 0 0 0 0 0 0 0 0\n",
      " 0 0 0 0 0 0 0 0 0 0 0 0 0 0 0 0 0 0 0 0 0 0 0 0 0 0 0 0 0 0 0 0 0 0 0 0 0\n",
      " 0 0 0 0 0 0]\n",
      "KNN: 0.7792207792207793, LR: 0.7662337662337663, NN: 0.6753246753246753\n"
     ]
    }
   ],
   "source": [
    "# Try each model using training, validation and prediction. These will return the validation and prediction sets\n",
    "valid_knn, test_knn = KNN(X_train, y_train, X_valid, X_test)\n",
    "print(valid_knn)\n",
    "valid_lr, test_lr = LogisticR(X_train, y_train, X_valid, X_test)\n",
    "print(valid_lr)\n",
    "valid_nn, test_nn = NN(X_train, y_train, X_valid, X_test)\n",
    "print(valid_nn)\n",
    "knn_acc = accuracy_score(y_valid, valid_knn)\n",
    "lr_acc = accuracy_score(y_valid, valid_lr)\n",
    "nn_acc = accuracy_score(y_valid, valid_nn)\n",
    "print(\"KNN: {}, LR: {}, NN: {}\".format(knn_acc, lr_acc, nn_acc))"
   ]
  },
  {
   "cell_type": "code",
   "execution_count": 112,
   "metadata": {},
   "outputs": [
    {
     "name": "stdout",
     "output_type": "stream",
     "text": [
      "KNN: 0.3508771929824561, LR: 0.34502923976608185, NN: 0.30409356725146197\n"
     ]
    }
   ],
   "source": [
    "# Calculate weighings based on validation accuracy\n",
    "total = knn_acc+lr_acc+nn_acc\n",
    "knnw = knn_acc/total\n",
    "lrw = lr_acc/total\n",
    "nnw = nn_acc/total\n",
    "print(\"KNN: {}, LR: {}, NN: {}\".format(knnw, lrw, nnw))"
   ]
  },
  {
   "cell_type": "code",
   "execution_count": 113,
   "metadata": {},
   "outputs": [
    {
     "name": "stdout",
     "output_type": "stream",
     "text": [
      "EP: 71.43%, KNN: 61.69%, LR: 76.62%, NN: 66.23%\n"
     ]
    }
   ],
   "source": [
    "# Use weightings to calculate ensemble prediction set\n",
    "ensemble_pred = (test_knn * knnw) + (test_nn * nnw) + (test_lr * lrw)\n",
    "ensemble_pred = [1 if x>0.5 else 0 for x in ensemble_pred]\n",
    "\n",
    "ep_acc = accuracy_score(y_test, ensemble_pred)\n",
    "knn_acc = accuracy_score(y_test, test_knn)\n",
    "lr_acc = accuracy_score(y_test, test_lr)\n",
    "nn_acc = accuracy_score(y_test, test_nn)\n",
    "print(\"EP: {:.2f}%, KNN: {:.2f}%, LR: {:.2f}%, NN: {:.2f}%\".format(ep_acc*100, knn_acc*100, lr_acc*100, nn_acc*100))"
   ]
  },
  {
   "cell_type": "code",
   "execution_count": null,
   "metadata": {},
   "outputs": [],
   "source": []
  }
 ],
 "metadata": {
  "kernelspec": {
   "display_name": "Python 3",
   "language": "python",
   "name": "python3"
  },
  "language_info": {
   "codemirror_mode": {
    "name": "ipython",
    "version": 3
   },
   "file_extension": ".py",
   "mimetype": "text/x-python",
   "name": "python",
   "nbconvert_exporter": "python",
   "pygments_lexer": "ipython3",
   "version": "3.7.3"
  }
 },
 "nbformat": 4,
 "nbformat_minor": 4
}
