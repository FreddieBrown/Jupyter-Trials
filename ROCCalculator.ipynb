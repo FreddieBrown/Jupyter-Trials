{
 "cells": [
  {
   "cell_type": "code",
   "execution_count": 1,
   "metadata": {},
   "outputs": [],
   "source": [
    "import matplotlib.pyplot as plt\n",
    "\n",
    "def roc(prob_w_labels, thresholds):\n",
    "    \"\"\"\n",
    "    Function will work out ROC curve when given a list of thresholds and \n",
    "    a list of probabilities and their true class labels\n",
    "    \"\"\"\n",
    "    tpr = []\n",
    "    fpr = []\n",
    "    for th in thresholds:\n",
    "        tp = 0\n",
    "        fp = 0\n",
    "        tpv = 0\n",
    "        fpv = 0\n",
    "        for key, value in prob_w_labels:\n",
    "                for val in value:\n",
    "                    if val > 0:\n",
    "                        tpv += val\n",
    "                        if float(key) >= th:\n",
    "                            tp += val\n",
    "                    else:\n",
    "                        fpv+= 1\n",
    "                        if float(key) >= th:\n",
    "                            fp +=1\n",
    "        tpr.append(tp/tpv)\n",
    "        fpr.append(fp/fpv)\n",
    "    print(\"Thresholds: {}\".format(thresholds))\n",
    "    print(\"TPR: {}\".format(tpr))\n",
    "    print(\"FPR: {}\".format(fpr))\n",
    "    plt.plot(fpr, tpr)\n",
    "    plt.axis([0, 1, 0, 1])\n",
    "    plt.ylabel(\"True Positive Rate\")\n",
    "    plt.xlabel(\"False Positive Rate\")\n",
    "    plt.show()\n",
    "\n",
    "def false_vals(prob_w_labels, num):\n",
    "    \"\"\"\n",
    "    When given a list of probablilties and their true class labels, it will work out the \n",
    "    \"\"\"\n",
    "    false_pos = 0\n",
    "    false_neg = 0\n",
    "    \n",
    "    for key, value in prob_w_labels:\n",
    "        local_pos = 0\n",
    "        local_neg = 0\n",
    "        flag = False\n",
    "        for val in value:\n",
    "            if val > 0:\n",
    "                local_pos += 1\n",
    "            else:\n",
    "                local_neg += 1\n",
    "        if local_pos > 0 and local_neg > 0:\n",
    "            false_pos += local_pos\n",
    "            false_neg += local_neg\n",
    "            flag = True\n",
    "        if false_pos == num and flag:\n",
    "            print(\"Lower Bound For {} False Positives: {}\".format(num, key))\n",
    "        elif false_pos == num+1 and flag:\n",
    "            print(\"Upper Bound For {} False Positives: {}\".format(num, key))\n",
    "        if false_neg == num and flag:\n",
    "            print(\"Lower Bound For {} False Negatives: {}\".format(num, key))\n",
    "        elif false_neg == num+1 and flag:\n",
    "            print(\"Upper Bound For {} False Negatives: {}\".format(num, key))\n",
    "    \n",
    "            \n",
    "                    \n",
    "            "
   ]
  },
  {
   "cell_type": "code",
   "execution_count": 2,
   "metadata": {},
   "outputs": [
    {
     "name": "stdout",
     "output_type": "stream",
     "text": [
      "Thresholds: [0.0, 0.75, 1.0]\n",
      "TPR: [1.0, 0.4, 0.0]\n",
      "FPR: [1.0, 0.0, 0.0]\n"
     ]
    },
    {
     "data": {
      "image/png": "[encoded data removed]",
      "text/plain": [
       "<Figure size 432x288 with 1 Axes>"
      ]
     },
     "metadata": {
      "needs_background": "light"
     },
     "output_type": "display_data"
    }
   ],
   "source": [
    "table = [\n",
    "    (0.1, [-1]),\n",
    "    (0.2, [-1]),\n",
    "    (0.3, [-1, -1]),\n",
    "    (0.4, [1]),\n",
    "    (0.6, [1,-1]),\n",
    "    (0.7,[1]),\n",
    "    (0.8, [1]),\n",
    "    (0.9, [1]),\n",
    "]\n",
    "thresholds = [0.0, 0.75, 1.0]\n",
    "roc(table, thresholds)"
   ]
  },
  {
   "cell_type": "code",
   "execution_count": 5,
   "metadata": {},
   "outputs": [
    {
     "name": "stdout",
     "output_type": "stream",
     "text": [
      "Lower Bound For 3 False Negatives: 0.5\n",
      "Lower Bound For 3 False Positives: 0.8\n",
      "Upper Bound For 3 False Negatives: 0.8\n"
     ]
    }
   ],
   "source": [
    "false_vals(table, 3)"
   ]
  },
  {
   "cell_type": "code",
   "execution_count": null,
   "metadata": {},
   "outputs": [],
   "source": []
  }
 ],
 "metadata": {
  "kernelspec": {
   "display_name": "Python 3",
   "language": "python",
   "name": "python3"
  },
  "language_info": {
   "codemirror_mode": {
    "name": "ipython",
    "version": 3
   },
   "file_extension": ".py",
   "mimetype": "text/x-python",
   "name": "python",
   "nbconvert_exporter": "python",
   "pygments_lexer": "ipython3",
   "version": "3.8.2"
  }
 },
 "nbformat": 4,
 "nbformat_minor": 4
}
